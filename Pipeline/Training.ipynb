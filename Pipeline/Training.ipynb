{
  "nbformat": 4,
  "nbformat_minor": 0,
  "metadata": {
    "colab": {
      "name": "BigDataTraining.ipynb",
      "provenance": [],
      "collapsed_sections": []
    },
    "kernelspec": {
      "name": "python3",
      "display_name": "Python 3"
    }
  },
  "cells": [
    {
      "cell_type": "markdown",
      "source": [
        "# instalacion Spark"
      ],
      "metadata": {
        "id": "UZtTGy18T9iO"
      }
    },
    {
      "cell_type": "code",
      "source": [
        "from bs4 import BeautifulSoup\n",
        "import requests\n",
        "url = 'https://downloads.apache.org/spark/' \n",
        "r = requests.get(url)\n",
        "html_doc = r.text\n",
        "soup = BeautifulSoup(html_doc)\n",
        "link_files = []\n",
        "for link in soup.find_all('a'):\n",
        "  link_files.append(link.get('href'))\n",
        "spark_link = [x for x in link_files if 'spark' in x]  \n",
        "print(spark_link)\n"
      ],
      "metadata": {
        "colab": {
          "base_uri": "https://localhost:8080/"
        },
        "id": "6RfuaCQp48qN",
        "outputId": "72eed673-42f7-4b35-c64b-f0eda7e86747"
      },
      "execution_count": null,
      "outputs": [
        {
          "output_type": "stream",
          "name": "stdout",
          "text": [
            "['spark-2.4.8/', 'spark-3.0.3/', 'spark-3.1.2/', 'spark-3.1.3/', 'spark-3.2.1/']\n"
          ]
        }
      ]
    },
    {
      "cell_type": "code",
      "source": [
        "ver_spark = spark_link[1][:-1] \n",
        "print(ver_spark)"
      ],
      "metadata": {
        "colab": {
          "base_uri": "https://localhost:8080/"
        },
        "id": "mvRhmi3b-zhh",
        "outputId": "8bbcb48d-2f15-41af-a8f5-dc53026655ca"
      },
      "execution_count": null,
      "outputs": [
        {
          "output_type": "stream",
          "name": "stdout",
          "text": [
            "spark-3.0.3\n"
          ]
        }
      ]
    },
    {
      "cell_type": "code",
      "source": [
        "import os \n",
        "!apt-get install openjdk-8-jdk-headless -qq > /dev/null\n",
        "os.system(f\"wget -q {url+ver_spark}/{ver_spark}-bin-hadoop2.7.tgz\")\n",
        "os.system(f\"tar xf {ver_spark}-bin-hadoop2.7.tgz\")\n",
        "!ls"
      ],
      "metadata": {
        "colab": {
          "base_uri": "https://localhost:8080/"
        },
        "id": "lnyRV7WJ-9N6",
        "outputId": "77ea03ed-b62b-4ec6-c3ab-b0387a4d1874"
      },
      "execution_count": null,
      "outputs": [
        {
          "output_type": "stream",
          "name": "stdout",
          "text": [
            "sample_data  spark-3.0.3-bin-hadoop2.7\tspark-3.0.3-bin-hadoop2.7.tgz\n"
          ]
        }
      ]
    },
    {
      "cell_type": "code",
      "source": [
        "!pip install -q pyspark\n",
        "!pip install -q findspark\n",
        "os.environ[\"JAVA_HOME\"] = \"/usr/lib/jvm/java-8-openjdk-amd64\"\n",
        "os.environ[\"SPARK_HOME\"] = f\"/content/{ver_spark}-bin-hadoop2.7\""
      ],
      "metadata": {
        "id": "EvvfMcsPA2w6",
        "colab": {
          "base_uri": "https://localhost:8080/"
        },
        "outputId": "e406cab7-3003-45e8-8cfc-c8ee1beaeee0"
      },
      "execution_count": null,
      "outputs": [
        {
          "output_type": "stream",
          "name": "stdout",
          "text": [
            "\u001b[K     |████████████████████████████████| 281.4 MB 27 kB/s \n",
            "\u001b[K     |████████████████████████████████| 198 kB 40.2 MB/s \n",
            "\u001b[?25h  Building wheel for pyspark (setup.py) ... \u001b[?25l\u001b[?25hdone\n"
          ]
        }
      ]
    },
    {
      "cell_type": "code",
      "source": [
        "!ls"
      ],
      "metadata": {
        "colab": {
          "base_uri": "https://localhost:8080/"
        },
        "id": "p6whpAIkAVIC",
        "outputId": "841117d0-9173-437b-ad95-16b54bf375b7"
      },
      "execution_count": null,
      "outputs": [
        {
          "output_type": "stream",
          "name": "stdout",
          "text": [
            "sample_data  spark-3.0.3-bin-hadoop2.7\tspark-3.0.3-bin-hadoop2.7.tgz\n"
          ]
        }
      ]
    },
    {
      "cell_type": "code",
      "source": [
        "import findspark\n",
        "findspark.init()\n",
        "findspark.find()"
      ],
      "metadata": {
        "colab": {
          "base_uri": "https://localhost:8080/",
          "height": 35
        },
        "id": "7cn5e3p95g2O",
        "outputId": "30ba4825-ba9f-4ce5-aea3-24ed49c2dcd2"
      },
      "execution_count": null,
      "outputs": [
        {
          "output_type": "execute_result",
          "data": {
            "text/plain": [
              "'/content/spark-3.0.3-bin-hadoop2.7'"
            ],
            "application/vnd.google.colaboratory.intrinsic+json": {
              "type": "string"
            }
          },
          "metadata": {},
          "execution_count": 6
        }
      ]
    },
    {
      "cell_type": "code",
      "source": [
        "from pyspark.sql import SparkSession\n",
        "spark = SparkSession.builder\\\n",
        "        .master(\"local\")\\\n",
        "        .appName(\"Colab\")\\\n",
        "        .config(\"spark.driver.memory\",\"12g\") \\\n",
        "        .config(\"spark.sql.execution.arrow.enabled\",\"true\") \\\n",
        "        .getOrCreate()"
      ],
      "metadata": {
        "id": "UmuwcNt_7zyC"
      },
      "execution_count": null,
      "outputs": []
    },
    {
      "cell_type": "code",
      "source": [
        "spark"
      ],
      "metadata": {
        "colab": {
          "base_uri": "https://localhost:8080/",
          "height": 219
        },
        "id": "f8P5-1_x71Su",
        "outputId": "e86ecb74-aeef-4810-a66e-fde8db92d589"
      },
      "execution_count": null,
      "outputs": [
        {
          "output_type": "execute_result",
          "data": {
            "text/plain": [
              "<pyspark.sql.session.SparkSession at 0x7f60c807e250>"
            ],
            "text/html": [
              "\n",
              "            <div>\n",
              "                <p><b>SparkSession - in-memory</b></p>\n",
              "                \n",
              "        <div>\n",
              "            <p><b>SparkContext</b></p>\n",
              "\n",
              "            <p><a href=\"http://4411d39f9f2f:4040\">Spark UI</a></p>\n",
              "\n",
              "            <dl>\n",
              "              <dt>Version</dt>\n",
              "                <dd><code>v3.0.3</code></dd>\n",
              "              <dt>Master</dt>\n",
              "                <dd><code>local</code></dd>\n",
              "              <dt>AppName</dt>\n",
              "                <dd><code>Colab</code></dd>\n",
              "            </dl>\n",
              "        </div>\n",
              "        \n",
              "            </div>\n",
              "        "
            ]
          },
          "metadata": {},
          "execution_count": 8
        }
      ]
    },
    {
      "cell_type": "markdown",
      "source": [
        ""
      ],
      "metadata": {
        "id": "vWV2OEStT4TE"
      }
    },
    {
      "cell_type": "markdown",
      "source": [
        "## Code"
      ],
      "metadata": {
        "id": "kgmyhh2bT4aM"
      }
    },
    {
      "cell_type": "code",
      "source": [
        "import matplotlib.pyplot as plt \n",
        "plt.style.use('default')\n",
        "%matplotlib inline"
      ],
      "metadata": {
        "id": "nSYBaH1COpVj"
      },
      "execution_count": null,
      "outputs": []
    },
    {
      "cell_type": "markdown",
      "source": [
        "## Cargar data"
      ],
      "metadata": {
        "id": "bk5G4rPAvr9w"
      }
    },
    {
      "cell_type": "code",
      "source": [
        "\n",
        "DATASET_NAME=\"testUndersampled_HLF_features.parquet\"\n",
        "!wget -r -np -R \"index.html*\" -e robots=off http://sparkdltrigger.web.cern.ch/sparkdltrigger/$DATASET_NAME\n",
        "\n",
        "DATASET_NAME=\"trainUndersampled_HLF_features.parquet\"\n",
        "!wget -r -np -R \"index.html*\" -e robots=off http://sparkdltrigger.web.cern.ch/sparkdltrigger/$DATASET_NAME"
      ],
      "metadata": {
        "id": "_tV4JIrJr7gD",
        "colab": {
          "base_uri": "https://localhost:8080/"
        },
        "outputId": "4878e1b6-b3ba-48ed-9cb1-6fae38babba9"
      },
      "execution_count": null,
      "outputs": [
        {
          "output_type": "stream",
          "name": "stdout",
          "text": [
            "--2022-06-13 02:37:04--  http://sparkdltrigger.web.cern.ch/sparkdltrigger/testUndersampled_HLF_features.parquet\n",
            "Resolving sparkdltrigger.web.cern.ch (sparkdltrigger.web.cern.ch)... 188.185.87.216, 137.138.31.235, 188.185.90.87\n",
            "Connecting to sparkdltrigger.web.cern.ch (sparkdltrigger.web.cern.ch)|188.185.87.216|:80... connected.\n",
            "HTTP request sent, awaiting response... 302 Found\n",
            "Location: https://sparkdltrigger.web.cern.ch/sparkdltrigger/testUndersampled_HLF_features.parquet [following]\n",
            "--2022-06-13 02:37:05--  https://sparkdltrigger.web.cern.ch/sparkdltrigger/testUndersampled_HLF_features.parquet\n",
            "Connecting to sparkdltrigger.web.cern.ch (sparkdltrigger.web.cern.ch)|188.185.87.216|:443... connected.\n",
            "HTTP request sent, awaiting response... 301 Moved Permanently\n",
            "Location: https://sparkdltrigger.web.cern.ch/sparkdltrigger/testUndersampled_HLF_features.parquet/ [following]\n",
            "--2022-06-13 02:37:05--  https://sparkdltrigger.web.cern.ch/sparkdltrigger/testUndersampled_HLF_features.parquet/\n",
            "Reusing existing connection to sparkdltrigger.web.cern.ch:443.\n",
            "HTTP request sent, awaiting response... 200 OK\n",
            "Length: 1152 (1.1K) [text/html]\n",
            "Saving to: ‘sparkdltrigger.web.cern.ch/sparkdltrigger/testUndersampled_HLF_features.parquet’\n",
            "\n",
            "sparkdltrigger.web. 100%[===================>]   1.12K  --.-KB/s    in 0s      \n",
            "\n",
            "2022-06-13 02:37:05 (132 MB/s) - ‘sparkdltrigger.web.cern.ch/sparkdltrigger/testUndersampled_HLF_features.parquet’ saved [1152/1152]\n",
            "\n",
            "--2022-06-13 02:37:05--  https://sparkdltrigger.web.cern.ch/sparkdltrigger/testUndersampled_HLF_features.parquet/?C=N;O=D\n",
            "Reusing existing connection to sparkdltrigger.web.cern.ch:443.\n",
            "HTTP request sent, awaiting response... 200 OK\n",
            "Length: 1152 (1.1K) [text/html]\n",
            "Saving to: ‘sparkdltrigger.web.cern.ch/sparkdltrigger/testUndersampled_HLF_features.parquet/index.html?C=N;O=D.tmp’\n",
            "\n",
            "sparkdltrigger.web. 100%[===================>]   1.12K  --.-KB/s    in 0s      \n",
            "\n",
            "2022-06-13 02:37:06 (118 MB/s) - ‘sparkdltrigger.web.cern.ch/sparkdltrigger/testUndersampled_HLF_features.parquet/index.html?C=N;O=D.tmp’ saved [1152/1152]\n",
            "\n",
            "Removing sparkdltrigger.web.cern.ch/sparkdltrigger/testUndersampled_HLF_features.parquet/index.html?C=N;O=D.tmp since it should be rejected.\n",
            "\n",
            "--2022-06-13 02:37:06--  https://sparkdltrigger.web.cern.ch/sparkdltrigger/testUndersampled_HLF_features.parquet/?C=M;O=A\n",
            "Reusing existing connection to sparkdltrigger.web.cern.ch:443.\n",
            "HTTP request sent, awaiting response... 200 OK\n",
            "Length: 1152 (1.1K) [text/html]\n",
            "Saving to: ‘sparkdltrigger.web.cern.ch/sparkdltrigger/testUndersampled_HLF_features.parquet/index.html?C=M;O=A.tmp’\n",
            "\n",
            "sparkdltrigger.web. 100%[===================>]   1.12K  --.-KB/s    in 0s      \n",
            "\n",
            "2022-06-13 02:37:06 (189 MB/s) - ‘sparkdltrigger.web.cern.ch/sparkdltrigger/testUndersampled_HLF_features.parquet/index.html?C=M;O=A.tmp’ saved [1152/1152]\n",
            "\n",
            "Removing sparkdltrigger.web.cern.ch/sparkdltrigger/testUndersampled_HLF_features.parquet/index.html?C=M;O=A.tmp since it should be rejected.\n",
            "\n",
            "--2022-06-13 02:37:06--  https://sparkdltrigger.web.cern.ch/sparkdltrigger/testUndersampled_HLF_features.parquet/?C=S;O=A\n",
            "Reusing existing connection to sparkdltrigger.web.cern.ch:443.\n",
            "HTTP request sent, awaiting response... 200 OK\n",
            "Length: 1152 (1.1K) [text/html]\n",
            "Saving to: ‘sparkdltrigger.web.cern.ch/sparkdltrigger/testUndersampled_HLF_features.parquet/index.html?C=S;O=A.tmp’\n",
            "\n",
            "sparkdltrigger.web. 100%[===================>]   1.12K  --.-KB/s    in 0s      \n",
            "\n",
            "2022-06-13 02:37:06 (256 MB/s) - ‘sparkdltrigger.web.cern.ch/sparkdltrigger/testUndersampled_HLF_features.parquet/index.html?C=S;O=A.tmp’ saved [1152/1152]\n",
            "\n",
            "Removing sparkdltrigger.web.cern.ch/sparkdltrigger/testUndersampled_HLF_features.parquet/index.html?C=S;O=A.tmp since it should be rejected.\n",
            "\n",
            "--2022-06-13 02:37:06--  https://sparkdltrigger.web.cern.ch/sparkdltrigger/testUndersampled_HLF_features.parquet/?C=D;O=A\n",
            "Reusing existing connection to sparkdltrigger.web.cern.ch:443.\n",
            "HTTP request sent, awaiting response... 200 OK\n",
            "Length: 1152 (1.1K) [text/html]\n",
            "Saving to: ‘sparkdltrigger.web.cern.ch/sparkdltrigger/testUndersampled_HLF_features.parquet/index.html?C=D;O=A.tmp’\n",
            "\n",
            "sparkdltrigger.web. 100%[===================>]   1.12K  --.-KB/s    in 0s      \n",
            "\n",
            "2022-06-13 02:37:06 (23.3 MB/s) - ‘sparkdltrigger.web.cern.ch/sparkdltrigger/testUndersampled_HLF_features.parquet/index.html?C=D;O=A.tmp’ saved [1152/1152]\n",
            "\n",
            "Removing sparkdltrigger.web.cern.ch/sparkdltrigger/testUndersampled_HLF_features.parquet/index.html?C=D;O=A.tmp since it should be rejected.\n",
            "\n",
            "--2022-06-13 02:37:06--  https://sparkdltrigger.web.cern.ch/sparkdltrigger/\n",
            "Reusing existing connection to sparkdltrigger.web.cern.ch:443.\n",
            "HTTP request sent, awaiting response... 200 OK\n",
            "Length: 690 [text/html]\n",
            "Saving to: ‘sparkdltrigger.web.cern.ch/sparkdltrigger/index.html.tmp’\n",
            "\n",
            "sparkdltrigger.web. 100%[===================>]     690  --.-KB/s    in 0s      \n",
            "\n",
            "2022-06-13 02:37:07 (150 MB/s) - ‘sparkdltrigger.web.cern.ch/sparkdltrigger/index.html.tmp’ saved [690/690]\n",
            "\n",
            "Removing sparkdltrigger.web.cern.ch/sparkdltrigger/index.html.tmp since it should be rejected.\n",
            "\n",
            "--2022-06-13 02:37:07--  https://sparkdltrigger.web.cern.ch/sparkdltrigger/testUndersampled_HLF_features.parquet/_SUCCESS\n",
            "Reusing existing connection to sparkdltrigger.web.cern.ch:443.\n",
            "HTTP request sent, awaiting response... 200 OK\n",
            "Length: 0\n",
            "Saving to: ‘sparkdltrigger.web.cern.ch/sparkdltrigger/testUndersampled_HLF_features.parquet/_SUCCESS’\n",
            "\n",
            "sparkdltrigger.web.     [ <=>                ]       0  --.-KB/s    in 0s      \n",
            "\n",
            "2022-06-13 02:37:07 (0.00 B/s) - ‘sparkdltrigger.web.cern.ch/sparkdltrigger/testUndersampled_HLF_features.parquet/_SUCCESS’ saved [0/0]\n",
            "\n",
            "--2022-06-13 02:37:07--  https://sparkdltrigger.web.cern.ch/sparkdltrigger/testUndersampled_HLF_features.parquet/part-00000-690a3d7a-5515-4e67-ad7d-20cdfd820b99-c000.snappy.parquet\n",
            "Reusing existing connection to sparkdltrigger.web.cern.ch:443.\n",
            "HTTP request sent, awaiting response... 200 OK\n",
            "Length: 78242816 (75M)\n",
            "Saving to: ‘sparkdltrigger.web.cern.ch/sparkdltrigger/testUndersampled_HLF_features.parquet/part-00000-690a3d7a-5515-4e67-ad7d-20cdfd820b99-c000.snappy.parquet’\n",
            "\n",
            "sparkdltrigger.web. 100%[===================>]  74.62M  18.0MB/s    in 5.4s    \n",
            "\n",
            "2022-06-13 02:37:12 (13.8 MB/s) - ‘sparkdltrigger.web.cern.ch/sparkdltrigger/testUndersampled_HLF_features.parquet/part-00000-690a3d7a-5515-4e67-ad7d-20cdfd820b99-c000.snappy.parquet’ saved [78242816/78242816]\n",
            "\n",
            "--2022-06-13 02:37:12--  https://sparkdltrigger.web.cern.ch/sparkdltrigger/testUndersampled_HLF_features.parquet/?C=N;O=A\n",
            "Reusing existing connection to sparkdltrigger.web.cern.ch:443.\n",
            "HTTP request sent, awaiting response... 200 OK\n",
            "Length: 1152 (1.1K) [text/html]\n",
            "Saving to: ‘sparkdltrigger.web.cern.ch/sparkdltrigger/testUndersampled_HLF_features.parquet/index.html?C=N;O=A.tmp’\n",
            "\n",
            "sparkdltrigger.web. 100%[===================>]   1.12K  --.-KB/s    in 0.004s  \n",
            "\n",
            "2022-06-13 02:37:13 (262 KB/s) - ‘sparkdltrigger.web.cern.ch/sparkdltrigger/testUndersampled_HLF_features.parquet/index.html?C=N;O=A.tmp’ saved [1152/1152]\n",
            "\n",
            "Removing sparkdltrigger.web.cern.ch/sparkdltrigger/testUndersampled_HLF_features.parquet/index.html?C=N;O=A.tmp since it should be rejected.\n",
            "\n",
            "--2022-06-13 02:37:13--  https://sparkdltrigger.web.cern.ch/sparkdltrigger/testUndersampled_HLF_features.parquet/?C=M;O=D\n",
            "Reusing existing connection to sparkdltrigger.web.cern.ch:443.\n",
            "HTTP request sent, awaiting response... 200 OK\n",
            "Length: 1152 (1.1K) [text/html]\n",
            "Saving to: ‘sparkdltrigger.web.cern.ch/sparkdltrigger/testUndersampled_HLF_features.parquet/index.html?C=M;O=D.tmp’\n",
            "\n",
            "sparkdltrigger.web. 100%[===================>]   1.12K  --.-KB/s    in 0s      \n",
            "\n",
            "2022-06-13 02:37:13 (177 MB/s) - ‘sparkdltrigger.web.cern.ch/sparkdltrigger/testUndersampled_HLF_features.parquet/index.html?C=M;O=D.tmp’ saved [1152/1152]\n",
            "\n",
            "Removing sparkdltrigger.web.cern.ch/sparkdltrigger/testUndersampled_HLF_features.parquet/index.html?C=M;O=D.tmp since it should be rejected.\n",
            "\n",
            "--2022-06-13 02:37:13--  https://sparkdltrigger.web.cern.ch/sparkdltrigger/testUndersampled_HLF_features.parquet/?C=S;O=D\n",
            "Reusing existing connection to sparkdltrigger.web.cern.ch:443.\n",
            "HTTP request sent, awaiting response... 200 OK\n",
            "Length: 1152 (1.1K) [text/html]\n",
            "Saving to: ‘sparkdltrigger.web.cern.ch/sparkdltrigger/testUndersampled_HLF_features.parquet/index.html?C=S;O=D.tmp’\n",
            "\n",
            "sparkdltrigger.web. 100%[===================>]   1.12K  --.-KB/s    in 0s      \n",
            "\n",
            "2022-06-13 02:37:13 (170 MB/s) - ‘sparkdltrigger.web.cern.ch/sparkdltrigger/testUndersampled_HLF_features.parquet/index.html?C=S;O=D.tmp’ saved [1152/1152]\n",
            "\n",
            "Removing sparkdltrigger.web.cern.ch/sparkdltrigger/testUndersampled_HLF_features.parquet/index.html?C=S;O=D.tmp since it should be rejected.\n",
            "\n",
            "--2022-06-13 02:37:13--  https://sparkdltrigger.web.cern.ch/sparkdltrigger/testUndersampled_HLF_features.parquet/?C=D;O=D\n",
            "Reusing existing connection to sparkdltrigger.web.cern.ch:443.\n",
            "HTTP request sent, awaiting response... 200 OK\n",
            "Length: 1152 (1.1K) [text/html]\n",
            "Saving to: ‘sparkdltrigger.web.cern.ch/sparkdltrigger/testUndersampled_HLF_features.parquet/index.html?C=D;O=D.tmp’\n",
            "\n",
            "sparkdltrigger.web. 100%[===================>]   1.12K  --.-KB/s    in 0s      \n",
            "\n",
            "2022-06-13 02:37:13 (193 MB/s) - ‘sparkdltrigger.web.cern.ch/sparkdltrigger/testUndersampled_HLF_features.parquet/index.html?C=D;O=D.tmp’ saved [1152/1152]\n",
            "\n",
            "Removing sparkdltrigger.web.cern.ch/sparkdltrigger/testUndersampled_HLF_features.parquet/index.html?C=D;O=D.tmp since it should be rejected.\n",
            "\n",
            "FINISHED --2022-06-13 02:37:13--\n",
            "Total wall clock time: 9.3s\n",
            "Downloaded: 12 files, 75M in 5.4s (13.8 MB/s)\n",
            "--2022-06-13 02:37:13--  http://sparkdltrigger.web.cern.ch/sparkdltrigger/trainUndersampled_HLF_features.parquet\n",
            "Resolving sparkdltrigger.web.cern.ch (sparkdltrigger.web.cern.ch)... 188.185.87.216, 137.138.31.235, 188.185.90.87\n",
            "Connecting to sparkdltrigger.web.cern.ch (sparkdltrigger.web.cern.ch)|188.185.87.216|:80... connected.\n",
            "HTTP request sent, awaiting response... 302 Found\n",
            "Location: https://sparkdltrigger.web.cern.ch/sparkdltrigger/trainUndersampled_HLF_features.parquet [following]\n",
            "--2022-06-13 02:37:14--  https://sparkdltrigger.web.cern.ch/sparkdltrigger/trainUndersampled_HLF_features.parquet\n",
            "Connecting to sparkdltrigger.web.cern.ch (sparkdltrigger.web.cern.ch)|188.185.87.216|:443... connected.\n",
            "HTTP request sent, awaiting response... 301 Moved Permanently\n",
            "Location: https://sparkdltrigger.web.cern.ch/sparkdltrigger/trainUndersampled_HLF_features.parquet/ [following]\n",
            "--2022-06-13 02:37:14--  https://sparkdltrigger.web.cern.ch/sparkdltrigger/trainUndersampled_HLF_features.parquet/\n",
            "Reusing existing connection to sparkdltrigger.web.cern.ch:443.\n",
            "HTTP request sent, awaiting response... 200 OK\n",
            "Length: 1877 (1.8K) [text/html]\n",
            "Saving to: ‘sparkdltrigger.web.cern.ch/sparkdltrigger/trainUndersampled_HLF_features.parquet’\n",
            "\n",
            "sparkdltrigger.web. 100%[===================>]   1.83K  --.-KB/s    in 0s      \n",
            "\n",
            "2022-06-13 02:37:14 (202 MB/s) - ‘sparkdltrigger.web.cern.ch/sparkdltrigger/trainUndersampled_HLF_features.parquet’ saved [1877/1877]\n",
            "\n",
            "--2022-06-13 02:37:14--  https://sparkdltrigger.web.cern.ch/sparkdltrigger/trainUndersampled_HLF_features.parquet/?C=N;O=D\n",
            "Reusing existing connection to sparkdltrigger.web.cern.ch:443.\n",
            "HTTP request sent, awaiting response... 200 OK\n",
            "Length: 1877 (1.8K) [text/html]\n",
            "Saving to: ‘sparkdltrigger.web.cern.ch/sparkdltrigger/trainUndersampled_HLF_features.parquet/index.html?C=N;O=D.tmp’\n",
            "\n",
            "sparkdltrigger.web. 100%[===================>]   1.83K  --.-KB/s    in 0s      \n",
            "\n",
            "2022-06-13 02:37:15 (195 MB/s) - ‘sparkdltrigger.web.cern.ch/sparkdltrigger/trainUndersampled_HLF_features.parquet/index.html?C=N;O=D.tmp’ saved [1877/1877]\n",
            "\n",
            "Removing sparkdltrigger.web.cern.ch/sparkdltrigger/trainUndersampled_HLF_features.parquet/index.html?C=N;O=D.tmp since it should be rejected.\n",
            "\n",
            "--2022-06-13 02:37:15--  https://sparkdltrigger.web.cern.ch/sparkdltrigger/trainUndersampled_HLF_features.parquet/?C=M;O=A\n",
            "Reusing existing connection to sparkdltrigger.web.cern.ch:443.\n",
            "HTTP request sent, awaiting response... 200 OK\n",
            "Length: 1877 (1.8K) [text/html]\n",
            "Saving to: ‘sparkdltrigger.web.cern.ch/sparkdltrigger/trainUndersampled_HLF_features.parquet/index.html?C=M;O=A.tmp’\n",
            "\n",
            "sparkdltrigger.web. 100%[===================>]   1.83K  --.-KB/s    in 0s      \n",
            "\n",
            "2022-06-13 02:37:15 (246 MB/s) - ‘sparkdltrigger.web.cern.ch/sparkdltrigger/trainUndersampled_HLF_features.parquet/index.html?C=M;O=A.tmp’ saved [1877/1877]\n",
            "\n",
            "Removing sparkdltrigger.web.cern.ch/sparkdltrigger/trainUndersampled_HLF_features.parquet/index.html?C=M;O=A.tmp since it should be rejected.\n",
            "\n",
            "--2022-06-13 02:37:15--  https://sparkdltrigger.web.cern.ch/sparkdltrigger/trainUndersampled_HLF_features.parquet/?C=S;O=A\n",
            "Reusing existing connection to sparkdltrigger.web.cern.ch:443.\n",
            "HTTP request sent, awaiting response... 200 OK\n",
            "Length: 1877 (1.8K) [text/html]\n",
            "Saving to: ‘sparkdltrigger.web.cern.ch/sparkdltrigger/trainUndersampled_HLF_features.parquet/index.html?C=S;O=A.tmp’\n",
            "\n",
            "sparkdltrigger.web. 100%[===================>]   1.83K  --.-KB/s    in 0s      \n",
            "\n",
            "2022-06-13 02:37:15 (226 MB/s) - ‘sparkdltrigger.web.cern.ch/sparkdltrigger/trainUndersampled_HLF_features.parquet/index.html?C=S;O=A.tmp’ saved [1877/1877]\n",
            "\n",
            "Removing sparkdltrigger.web.cern.ch/sparkdltrigger/trainUndersampled_HLF_features.parquet/index.html?C=S;O=A.tmp since it should be rejected.\n",
            "\n",
            "--2022-06-13 02:37:15--  https://sparkdltrigger.web.cern.ch/sparkdltrigger/trainUndersampled_HLF_features.parquet/?C=D;O=A\n",
            "Reusing existing connection to sparkdltrigger.web.cern.ch:443.\n",
            "HTTP request sent, awaiting response... 200 OK\n",
            "Length: 1877 (1.8K) [text/html]\n",
            "Saving to: ‘sparkdltrigger.web.cern.ch/sparkdltrigger/trainUndersampled_HLF_features.parquet/index.html?C=D;O=A.tmp’\n",
            "\n",
            "sparkdltrigger.web. 100%[===================>]   1.83K  --.-KB/s    in 0s      \n",
            "\n",
            "2022-06-13 02:37:15 (285 MB/s) - ‘sparkdltrigger.web.cern.ch/sparkdltrigger/trainUndersampled_HLF_features.parquet/index.html?C=D;O=A.tmp’ saved [1877/1877]\n",
            "\n",
            "Removing sparkdltrigger.web.cern.ch/sparkdltrigger/trainUndersampled_HLF_features.parquet/index.html?C=D;O=A.tmp since it should be rejected.\n",
            "\n",
            "--2022-06-13 02:37:15--  https://sparkdltrigger.web.cern.ch/sparkdltrigger/\n",
            "Reusing existing connection to sparkdltrigger.web.cern.ch:443.\n",
            "HTTP request sent, awaiting response... 200 OK\n",
            "Length: 690 [text/html]\n",
            "Saving to: ‘sparkdltrigger.web.cern.ch/sparkdltrigger/index.html.tmp’\n",
            "\n",
            "sparkdltrigger.web. 100%[===================>]     690  --.-KB/s    in 0s      \n",
            "\n",
            "2022-06-13 02:37:15 (80.2 MB/s) - ‘sparkdltrigger.web.cern.ch/sparkdltrigger/index.html.tmp’ saved [690/690]\n",
            "\n",
            "Removing sparkdltrigger.web.cern.ch/sparkdltrigger/index.html.tmp since it should be rejected.\n",
            "\n",
            "--2022-06-13 02:37:15--  https://sparkdltrigger.web.cern.ch/sparkdltrigger/trainUndersampled_HLF_features.parquet/_SUCCESS\n",
            "Reusing existing connection to sparkdltrigger.web.cern.ch:443.\n",
            "HTTP request sent, awaiting response... 200 OK\n",
            "Length: 0\n",
            "Saving to: ‘sparkdltrigger.web.cern.ch/sparkdltrigger/trainUndersampled_HLF_features.parquet/_SUCCESS’\n",
            "\n",
            "sparkdltrigger.web.     [ <=>                ]       0  --.-KB/s    in 0s      \n",
            "\n",
            "2022-06-13 02:37:15 (0.00 B/s) - ‘sparkdltrigger.web.cern.ch/sparkdltrigger/trainUndersampled_HLF_features.parquet/_SUCCESS’ saved [0/0]\n",
            "\n",
            "--2022-06-13 02:37:15--  https://sparkdltrigger.web.cern.ch/sparkdltrigger/trainUndersampled_HLF_features.parquet/part-00000-89303fa0-6224-4afb-9758-195afcfec5fa-c000.snappy.parquet\n",
            "Reusing existing connection to sparkdltrigger.web.cern.ch:443.\n",
            "HTTP request sent, awaiting response... 200 OK\n",
            "Length: 78393118 (75M)\n",
            "Saving to: ‘sparkdltrigger.web.cern.ch/sparkdltrigger/trainUndersampled_HLF_features.parquet/part-00000-89303fa0-6224-4afb-9758-195afcfec5fa-c000.snappy.parquet’\n",
            "\n",
            "sparkdltrigger.web. 100%[===================>]  74.76M  17.3MB/s    in 5.7s    \n",
            "\n",
            "2022-06-13 02:37:21 (13.1 MB/s) - ‘sparkdltrigger.web.cern.ch/sparkdltrigger/trainUndersampled_HLF_features.parquet/part-00000-89303fa0-6224-4afb-9758-195afcfec5fa-c000.snappy.parquet’ saved [78393118/78393118]\n",
            "\n",
            "--2022-06-13 02:37:21--  https://sparkdltrigger.web.cern.ch/sparkdltrigger/trainUndersampled_HLF_features.parquet/part-00001-89303fa0-6224-4afb-9758-195afcfec5fa-c000.snappy.parquet\n",
            "Reusing existing connection to sparkdltrigger.web.cern.ch:443.\n",
            "HTTP request sent, awaiting response... 200 OK\n",
            "Length: 78469343 (75M)\n",
            "Saving to: ‘sparkdltrigger.web.cern.ch/sparkdltrigger/trainUndersampled_HLF_features.parquet/part-00001-89303fa0-6224-4afb-9758-195afcfec5fa-c000.snappy.parquet’\n",
            "\n",
            "sparkdltrigger.web. 100%[===================>]  74.83M  18.1MB/s    in 4.2s    \n",
            "\n",
            "2022-06-13 02:37:26 (17.9 MB/s) - ‘sparkdltrigger.web.cern.ch/sparkdltrigger/trainUndersampled_HLF_features.parquet/part-00001-89303fa0-6224-4afb-9758-195afcfec5fa-c000.snappy.parquet’ saved [78469343/78469343]\n",
            "\n",
            "--2022-06-13 02:37:26--  https://sparkdltrigger.web.cern.ch/sparkdltrigger/trainUndersampled_HLF_features.parquet/part-00002-89303fa0-6224-4afb-9758-195afcfec5fa-c000.snappy.parquet\n",
            "Reusing existing connection to sparkdltrigger.web.cern.ch:443.\n",
            "HTTP request sent, awaiting response... 200 OK\n",
            "Length: 78427755 (75M)\n",
            "Saving to: ‘sparkdltrigger.web.cern.ch/sparkdltrigger/trainUndersampled_HLF_features.parquet/part-00002-89303fa0-6224-4afb-9758-195afcfec5fa-c000.snappy.parquet’\n",
            "\n",
            "sparkdltrigger.web. 100%[===================>]  74.79M  18.6MB/s    in 4.0s    \n",
            "\n",
            "2022-06-13 02:37:30 (18.5 MB/s) - ‘sparkdltrigger.web.cern.ch/sparkdltrigger/trainUndersampled_HLF_features.parquet/part-00002-89303fa0-6224-4afb-9758-195afcfec5fa-c000.snappy.parquet’ saved [78427755/78427755]\n",
            "\n",
            "--2022-06-13 02:37:30--  https://sparkdltrigger.web.cern.ch/sparkdltrigger/trainUndersampled_HLF_features.parquet/part-00003-89303fa0-6224-4afb-9758-195afcfec5fa-c000.snappy.parquet\n",
            "Reusing existing connection to sparkdltrigger.web.cern.ch:443.\n",
            "HTTP request sent, awaiting response... 200 OK\n",
            "Length: 78685826 (75M)\n",
            "Saving to: ‘sparkdltrigger.web.cern.ch/sparkdltrigger/trainUndersampled_HLF_features.parquet/part-00003-89303fa0-6224-4afb-9758-195afcfec5fa-c000.snappy.parquet’\n",
            "\n",
            "sparkdltrigger.web. 100%[===================>]  75.04M  18.6MB/s    in 4.0s    \n",
            "\n",
            "2022-06-13 02:37:34 (18.6 MB/s) - ‘sparkdltrigger.web.cern.ch/sparkdltrigger/trainUndersampled_HLF_features.parquet/part-00003-89303fa0-6224-4afb-9758-195afcfec5fa-c000.snappy.parquet’ saved [78685826/78685826]\n",
            "\n",
            "--2022-06-13 02:37:34--  https://sparkdltrigger.web.cern.ch/sparkdltrigger/trainUndersampled_HLF_features.parquet/?C=N;O=A\n",
            "Reusing existing connection to sparkdltrigger.web.cern.ch:443.\n",
            "HTTP request sent, awaiting response... 200 OK\n",
            "Length: 1877 (1.8K) [text/html]\n",
            "Saving to: ‘sparkdltrigger.web.cern.ch/sparkdltrigger/trainUndersampled_HLF_features.parquet/index.html?C=N;O=A.tmp’\n",
            "\n",
            "sparkdltrigger.web. 100%[===================>]   1.83K  --.-KB/s    in 0s      \n",
            "\n",
            "2022-06-13 02:37:35 (232 MB/s) - ‘sparkdltrigger.web.cern.ch/sparkdltrigger/trainUndersampled_HLF_features.parquet/index.html?C=N;O=A.tmp’ saved [1877/1877]\n",
            "\n",
            "Removing sparkdltrigger.web.cern.ch/sparkdltrigger/trainUndersampled_HLF_features.parquet/index.html?C=N;O=A.tmp since it should be rejected.\n",
            "\n",
            "--2022-06-13 02:37:35--  https://sparkdltrigger.web.cern.ch/sparkdltrigger/trainUndersampled_HLF_features.parquet/?C=M;O=D\n",
            "Reusing existing connection to sparkdltrigger.web.cern.ch:443.\n",
            "HTTP request sent, awaiting response... 200 OK\n",
            "Length: 1877 (1.8K) [text/html]\n",
            "Saving to: ‘sparkdltrigger.web.cern.ch/sparkdltrigger/trainUndersampled_HLF_features.parquet/index.html?C=M;O=D.tmp’\n",
            "\n",
            "sparkdltrigger.web. 100%[===================>]   1.83K  --.-KB/s    in 0s      \n",
            "\n",
            "2022-06-13 02:37:35 (232 MB/s) - ‘sparkdltrigger.web.cern.ch/sparkdltrigger/trainUndersampled_HLF_features.parquet/index.html?C=M;O=D.tmp’ saved [1877/1877]\n",
            "\n",
            "Removing sparkdltrigger.web.cern.ch/sparkdltrigger/trainUndersampled_HLF_features.parquet/index.html?C=M;O=D.tmp since it should be rejected.\n",
            "\n",
            "--2022-06-13 02:37:35--  https://sparkdltrigger.web.cern.ch/sparkdltrigger/trainUndersampled_HLF_features.parquet/?C=S;O=D\n",
            "Reusing existing connection to sparkdltrigger.web.cern.ch:443.\n",
            "HTTP request sent, awaiting response... 200 OK\n",
            "Length: 1877 (1.8K) [text/html]\n",
            "Saving to: ‘sparkdltrigger.web.cern.ch/sparkdltrigger/trainUndersampled_HLF_features.parquet/index.html?C=S;O=D.tmp’\n",
            "\n",
            "sparkdltrigger.web. 100%[===================>]   1.83K  --.-KB/s    in 0s      \n",
            "\n",
            "2022-06-13 02:37:35 (251 MB/s) - ‘sparkdltrigger.web.cern.ch/sparkdltrigger/trainUndersampled_HLF_features.parquet/index.html?C=S;O=D.tmp’ saved [1877/1877]\n",
            "\n",
            "Removing sparkdltrigger.web.cern.ch/sparkdltrigger/trainUndersampled_HLF_features.parquet/index.html?C=S;O=D.tmp since it should be rejected.\n",
            "\n",
            "--2022-06-13 02:37:35--  https://sparkdltrigger.web.cern.ch/sparkdltrigger/trainUndersampled_HLF_features.parquet/?C=D;O=D\n",
            "Reusing existing connection to sparkdltrigger.web.cern.ch:443.\n",
            "HTTP request sent, awaiting response... 200 OK\n",
            "Length: 1877 (1.8K) [text/html]\n",
            "Saving to: ‘sparkdltrigger.web.cern.ch/sparkdltrigger/trainUndersampled_HLF_features.parquet/index.html?C=D;O=D.tmp’\n",
            "\n",
            "sparkdltrigger.web. 100%[===================>]   1.83K  --.-KB/s    in 0s      \n",
            "\n",
            "2022-06-13 02:37:35 (234 MB/s) - ‘sparkdltrigger.web.cern.ch/sparkdltrigger/trainUndersampled_HLF_features.parquet/index.html?C=D;O=D.tmp’ saved [1877/1877]\n",
            "\n",
            "Removing sparkdltrigger.web.cern.ch/sparkdltrigger/trainUndersampled_HLF_features.parquet/index.html?C=D;O=D.tmp since it should be rejected.\n",
            "\n",
            "FINISHED --2022-06-13 02:37:35--\n",
            "Total wall clock time: 22s\n",
            "Downloaded: 15 files, 299M in 18s (16.7 MB/s)\n"
          ]
        }
      ]
    },
    {
      "cell_type": "code",
      "source": [
        "PATH = \"/content/sparkdltrigger.web.cern.ch/sparkdltrigger/\"\n",
        "\n",
        "trainDF = spark.read.format('parquet')\\\n",
        "        .load(PATH + 'trainUndersampled_HLF_features.parquet')\\\n",
        "        .select(['HLF_input', 'encoded_label'])\n",
        "        \n",
        "testDF = spark.read.format('parquet')\\\n",
        "        .load(PATH + 'testUndersampled_HLF_features.parquet')\\\n",
        "        .select(['HLF_input', 'encoded_label'])"
      ],
      "metadata": {
        "id": "ZuIM77bowlp1"
      },
      "execution_count": null,
      "outputs": []
    },
    {
      "cell_type": "code",
      "source": [
        "num_test = testDF.count()\n",
        "num_train = trainDF.count()\n",
        "\n",
        "print(f\"There are {num_test} events in the test dataset\")\n",
        "print(f\"There are {num_train} events in the train dataset\")"
      ],
      "metadata": {
        "colab": {
          "base_uri": "https://localhost:8080/"
        },
        "id": "240JDVD_w4DR",
        "outputId": "cdbf1e64-6b3e-49ab-8d85-b8ff690c43b8"
      },
      "execution_count": null,
      "outputs": [
        {
          "output_type": "stream",
          "name": "stdout",
          "text": [
            "There are 856090 events in the test dataset\n",
            "There are 3426083 events in the train dataset\n"
          ]
        }
      ]
    },
    {
      "cell_type": "code",
      "source": [
        "testDF.printSchema()\n",
        "testDF.limit(5).toPandas()"
      ],
      "metadata": {
        "colab": {
          "base_uri": "https://localhost:8080/",
          "height": 310
        },
        "id": "HXjZIJbhxVfA",
        "outputId": "1ee79037-6c9a-49b0-d31e-8452c18212ae"
      },
      "execution_count": null,
      "outputs": [
        {
          "output_type": "stream",
          "name": "stdout",
          "text": [
            "root\n",
            " |-- HLF_input: array (nullable = true)\n",
            " |    |-- element: double (containsNull = true)\n",
            " |-- encoded_label: array (nullable = true)\n",
            " |    |-- element: double (containsNull = true)\n",
            "\n"
          ]
        },
        {
          "output_type": "execute_result",
          "data": {
            "text/plain": [
              "                                           HLF_input    encoded_label\n",
              "0  [0.015150733133517018, 0.003511028294205839, 0...  [1.0, 0.0, 0.0]\n",
              "1  [0.0, 0.003881822832783805, 0.7166341448458555...  [1.0, 0.0, 0.0]\n",
              "2  [0.009639073600865505, 0.0010022659022912096, ...  [1.0, 0.0, 0.0]\n",
              "3  [0.016354407625436572, 0.002108937905084598, 0...  [1.0, 0.0, 0.0]\n",
              "4  [0.01925979125354152, 0.004603697276827594, 0....  [1.0, 0.0, 0.0]"
            ],
            "text/html": [
              "\n",
              "  <div id=\"df-01a1efa5-5173-48c8-ad4b-77f38cb3e03b\">\n",
              "    <div class=\"colab-df-container\">\n",
              "      <div>\n",
              "<style scoped>\n",
              "    .dataframe tbody tr th:only-of-type {\n",
              "        vertical-align: middle;\n",
              "    }\n",
              "\n",
              "    .dataframe tbody tr th {\n",
              "        vertical-align: top;\n",
              "    }\n",
              "\n",
              "    .dataframe thead th {\n",
              "        text-align: right;\n",
              "    }\n",
              "</style>\n",
              "<table border=\"1\" class=\"dataframe\">\n",
              "  <thead>\n",
              "    <tr style=\"text-align: right;\">\n",
              "      <th></th>\n",
              "      <th>HLF_input</th>\n",
              "      <th>encoded_label</th>\n",
              "    </tr>\n",
              "  </thead>\n",
              "  <tbody>\n",
              "    <tr>\n",
              "      <th>0</th>\n",
              "      <td>[0.015150733133517018, 0.003511028294205839, 0...</td>\n",
              "      <td>[1.0, 0.0, 0.0]</td>\n",
              "    </tr>\n",
              "    <tr>\n",
              "      <th>1</th>\n",
              "      <td>[0.0, 0.003881822832783805, 0.7166341448458555...</td>\n",
              "      <td>[1.0, 0.0, 0.0]</td>\n",
              "    </tr>\n",
              "    <tr>\n",
              "      <th>2</th>\n",
              "      <td>[0.009639073600865505, 0.0010022659022912096, ...</td>\n",
              "      <td>[1.0, 0.0, 0.0]</td>\n",
              "    </tr>\n",
              "    <tr>\n",
              "      <th>3</th>\n",
              "      <td>[0.016354407625436572, 0.002108937905084598, 0...</td>\n",
              "      <td>[1.0, 0.0, 0.0]</td>\n",
              "    </tr>\n",
              "    <tr>\n",
              "      <th>4</th>\n",
              "      <td>[0.01925979125354152, 0.004603697276827594, 0....</td>\n",
              "      <td>[1.0, 0.0, 0.0]</td>\n",
              "    </tr>\n",
              "  </tbody>\n",
              "</table>\n",
              "</div>\n",
              "      <button class=\"colab-df-convert\" onclick=\"convertToInteractive('df-01a1efa5-5173-48c8-ad4b-77f38cb3e03b')\"\n",
              "              title=\"Convert this dataframe to an interactive table.\"\n",
              "              style=\"display:none;\">\n",
              "        \n",
              "  <svg xmlns=\"http://www.w3.org/2000/svg\" height=\"24px\"viewBox=\"0 0 24 24\"\n",
              "       width=\"24px\">\n",
              "    <path d=\"M0 0h24v24H0V0z\" fill=\"none\"/>\n",
              "    <path d=\"M18.56 5.44l.94 2.06.94-2.06 2.06-.94-2.06-.94-.94-2.06-.94 2.06-2.06.94zm-11 1L8.5 8.5l.94-2.06 2.06-.94-2.06-.94L8.5 2.5l-.94 2.06-2.06.94zm10 10l.94 2.06.94-2.06 2.06-.94-2.06-.94-.94-2.06-.94 2.06-2.06.94z\"/><path d=\"M17.41 7.96l-1.37-1.37c-.4-.4-.92-.59-1.43-.59-.52 0-1.04.2-1.43.59L10.3 9.45l-7.72 7.72c-.78.78-.78 2.05 0 2.83L4 21.41c.39.39.9.59 1.41.59.51 0 1.02-.2 1.41-.59l7.78-7.78 2.81-2.81c.8-.78.8-2.07 0-2.86zM5.41 20L4 18.59l7.72-7.72 1.47 1.35L5.41 20z\"/>\n",
              "  </svg>\n",
              "      </button>\n",
              "      \n",
              "  <style>\n",
              "    .colab-df-container {\n",
              "      display:flex;\n",
              "      flex-wrap:wrap;\n",
              "      gap: 12px;\n",
              "    }\n",
              "\n",
              "    .colab-df-convert {\n",
              "      background-color: #E8F0FE;\n",
              "      border: none;\n",
              "      border-radius: 50%;\n",
              "      cursor: pointer;\n",
              "      display: none;\n",
              "      fill: #1967D2;\n",
              "      height: 32px;\n",
              "      padding: 0 0 0 0;\n",
              "      width: 32px;\n",
              "    }\n",
              "\n",
              "    .colab-df-convert:hover {\n",
              "      background-color: #E2EBFA;\n",
              "      box-shadow: 0px 1px 2px rgba(60, 64, 67, 0.3), 0px 1px 3px 1px rgba(60, 64, 67, 0.15);\n",
              "      fill: #174EA6;\n",
              "    }\n",
              "\n",
              "    [theme=dark] .colab-df-convert {\n",
              "      background-color: #3B4455;\n",
              "      fill: #D2E3FC;\n",
              "    }\n",
              "\n",
              "    [theme=dark] .colab-df-convert:hover {\n",
              "      background-color: #434B5C;\n",
              "      box-shadow: 0px 1px 3px 1px rgba(0, 0, 0, 0.15);\n",
              "      filter: drop-shadow(0px 1px 2px rgba(0, 0, 0, 0.3));\n",
              "      fill: #FFFFFF;\n",
              "    }\n",
              "  </style>\n",
              "\n",
              "      <script>\n",
              "        const buttonEl =\n",
              "          document.querySelector('#df-01a1efa5-5173-48c8-ad4b-77f38cb3e03b button.colab-df-convert');\n",
              "        buttonEl.style.display =\n",
              "          google.colab.kernel.accessAllowed ? 'block' : 'none';\n",
              "\n",
              "        async function convertToInteractive(key) {\n",
              "          const element = document.querySelector('#df-01a1efa5-5173-48c8-ad4b-77f38cb3e03b');\n",
              "          const dataTable =\n",
              "            await google.colab.kernel.invokeFunction('convertToInteractive',\n",
              "                                                     [key], {});\n",
              "          if (!dataTable) return;\n",
              "\n",
              "          const docLinkHtml = 'Like what you see? Visit the ' +\n",
              "            '<a target=\"_blank\" href=https://colab.research.google.com/notebooks/data_table.ipynb>data table notebook</a>'\n",
              "            + ' to learn more about interactive tables.';\n",
              "          element.innerHTML = '';\n",
              "          dataTable['output_type'] = 'display_data';\n",
              "          await google.colab.output.renderOutput(dataTable, element);\n",
              "          const docLink = document.createElement('div');\n",
              "          docLink.innerHTML = docLinkHtml;\n",
              "          element.appendChild(docLink);\n",
              "        }\n",
              "      </script>\n",
              "    </div>\n",
              "  </div>\n",
              "  "
            ]
          },
          "metadata": {},
          "execution_count": 13
        }
      ]
    },
    {
      "cell_type": "markdown",
      "source": [
        "## Convert training and test datasets from Spark DataFrames to Numpy arrays"
      ],
      "metadata": {
        "id": "wW8dYo5Bxokb"
      }
    },
    {
      "cell_type": "code",
      "source": [
        "import numpy as np\n",
        "\n",
        "X = np.array(trainDF.select(\"HLF_input\").collect()).reshape(num_train,14)\n",
        "y = np.array(trainDF.select(\"encoded_label\").collect()).reshape(num_train,3)\n",
        "\n",
        "X_test = np.array(testDF.select(\"HLF_input\").collect()).reshape(num_test,14)\n",
        "y_test = np.array(testDF.select(\"encoded_label\").collect()).reshape(num_test,3)\n"
      ],
      "metadata": {
        "id": "nyxfug95xyrz"
      },
      "execution_count": null,
      "outputs": []
    },
    {
      "cell_type": "code",
      "source": [
        "from tensorflow.keras.optimizers import Adam\n",
        "from tensorflow.keras.models import Sequential\n",
        "from tensorflow.keras.layers import Dense, Activation\n",
        "\n",
        "def create_model(nh_1, nh_2, nh_3):\n",
        "    ## Create model\n",
        "    model = Sequential()\n",
        "    model.add(Dense(nh_1, input_shape=(14,), activation='relu'))\n",
        "    model.add(Dense(nh_2, activation='relu'))\n",
        "    model.add(Dense(nh_3, activation='relu'))\n",
        "    model.add(Dense(3, activation='softmax'))\n",
        "    \n",
        "    ## Compile model\n",
        "    optimizer = 'Adam'\n",
        "    loss = 'categorical_crossentropy'\n",
        "    model.compile(loss=loss, optimizer=optimizer, metrics=[\"accuracy\"])\n",
        "    \n",
        "    return model"
      ],
      "metadata": {
        "id": "k0_g6tRUIqJ4"
      },
      "execution_count": null,
      "outputs": []
    },
    {
      "cell_type": "code",
      "source": [
        "keras_model = create_model(150,20,50)\n",
        "history = keras_model.fit(X, y, batch_size=64, epochs=50, validation_data=(X_test, y_test), verbose=1)"
      ],
      "metadata": {
        "colab": {
          "base_uri": "https://localhost:8080/"
        },
        "id": "hIDcZKsKI66n",
        "outputId": "a17657e8-3322-44d8-d017-76a9abb88578"
      },
      "execution_count": null,
      "outputs": [
        {
          "output_type": "stream",
          "name": "stdout",
          "text": [
            "Epoch 1/50\n",
            "53533/53533 [==============================] - 139s 3ms/step - loss: 0.2576 - accuracy: 0.9050 - val_loss: 0.2340 - val_accuracy: 0.9137\n",
            "Epoch 2/50\n",
            "53533/53533 [==============================] - 138s 3ms/step - loss: 0.2329 - accuracy: 0.9138 - val_loss: 0.2294 - val_accuracy: 0.9154\n",
            "Epoch 3/50\n",
            "53533/53533 [==============================] - 139s 3ms/step - loss: 0.2281 - accuracy: 0.9156 - val_loss: 0.2285 - val_accuracy: 0.9156\n",
            "Epoch 4/50\n",
            "53533/53533 [==============================] - 140s 3ms/step - loss: 0.2258 - accuracy: 0.9165 - val_loss: 0.2225 - val_accuracy: 0.9181\n",
            "Epoch 5/50\n",
            "53533/53533 [==============================] - 136s 3ms/step - loss: 0.2239 - accuracy: 0.9172 - val_loss: 0.2237 - val_accuracy: 0.9177\n",
            "Epoch 6/50\n",
            "53533/53533 [==============================] - 140s 3ms/step - loss: 0.2225 - accuracy: 0.9177 - val_loss: 0.2216 - val_accuracy: 0.9183\n",
            "Epoch 7/50\n",
            "53533/53533 [==============================] - 139s 3ms/step - loss: 0.2214 - accuracy: 0.9182 - val_loss: 0.2191 - val_accuracy: 0.9194\n",
            "Epoch 8/50\n",
            "53533/53533 [==============================] - 141s 3ms/step - loss: 0.2206 - accuracy: 0.9185 - val_loss: 0.2229 - val_accuracy: 0.9177\n",
            "Epoch 9/50\n",
            "53533/53533 [==============================] - 141s 3ms/step - loss: 0.2199 - accuracy: 0.9187 - val_loss: 0.2189 - val_accuracy: 0.9190\n",
            "Epoch 10/50\n",
            "53533/53533 [==============================] - 140s 3ms/step - loss: 0.2195 - accuracy: 0.9189 - val_loss: 0.2186 - val_accuracy: 0.9192\n",
            "Epoch 11/50\n",
            "53533/53533 [==============================] - 140s 3ms/step - loss: 0.2191 - accuracy: 0.9190 - val_loss: 0.2192 - val_accuracy: 0.9191\n",
            "Epoch 12/50\n",
            "53533/53533 [==============================] - 140s 3ms/step - loss: 0.2187 - accuracy: 0.9192 - val_loss: 0.2212 - val_accuracy: 0.9183\n",
            "Epoch 13/50\n",
            "53533/53533 [==============================] - 144s 3ms/step - loss: 0.2183 - accuracy: 0.9193 - val_loss: 0.2172 - val_accuracy: 0.9199\n",
            "Epoch 14/50\n",
            "53533/53533 [==============================] - 142s 3ms/step - loss: 0.2181 - accuracy: 0.9194 - val_loss: 0.2180 - val_accuracy: 0.9198\n",
            "Epoch 15/50\n",
            "53533/53533 [==============================] - 138s 3ms/step - loss: 0.2178 - accuracy: 0.9195 - val_loss: 0.2171 - val_accuracy: 0.9201\n",
            "Epoch 16/50\n",
            "53533/53533 [==============================] - 137s 3ms/step - loss: 0.2175 - accuracy: 0.9196 - val_loss: 0.2177 - val_accuracy: 0.9198\n",
            "Epoch 17/50\n",
            "53533/53533 [==============================] - 143s 3ms/step - loss: 0.2174 - accuracy: 0.9196 - val_loss: 0.2177 - val_accuracy: 0.9197\n",
            "Epoch 18/50\n",
            "53533/53533 [==============================] - 134s 2ms/step - loss: 0.2172 - accuracy: 0.9198 - val_loss: 0.2195 - val_accuracy: 0.9190\n",
            "Epoch 19/50\n",
            "53533/53533 [==============================] - 140s 3ms/step - loss: 0.2170 - accuracy: 0.9199 - val_loss: 0.2189 - val_accuracy: 0.9195\n",
            "Epoch 20/50\n",
            "53533/53533 [==============================] - 142s 3ms/step - loss: 0.2169 - accuracy: 0.9198 - val_loss: 0.2175 - val_accuracy: 0.9196\n",
            "Epoch 21/50\n",
            "53533/53533 [==============================] - 134s 2ms/step - loss: 0.2167 - accuracy: 0.9199 - val_loss: 0.2181 - val_accuracy: 0.9199\n",
            "Epoch 22/50\n",
            "53533/53533 [==============================] - 134s 3ms/step - loss: 0.2165 - accuracy: 0.9199 - val_loss: 0.2184 - val_accuracy: 0.9194\n",
            "Epoch 23/50\n",
            "53533/53533 [==============================] - 139s 3ms/step - loss: 0.2164 - accuracy: 0.9200 - val_loss: 0.2179 - val_accuracy: 0.9195\n",
            "Epoch 24/50\n",
            "53533/53533 [==============================] - 142s 3ms/step - loss: 0.2163 - accuracy: 0.9200 - val_loss: 0.2186 - val_accuracy: 0.9193\n",
            "Epoch 25/50\n",
            "53533/53533 [==============================] - 139s 3ms/step - loss: 0.2162 - accuracy: 0.9202 - val_loss: 0.2165 - val_accuracy: 0.9203\n",
            "Epoch 26/50\n",
            "53533/53533 [==============================] - 141s 3ms/step - loss: 0.2160 - accuracy: 0.9202 - val_loss: 0.2167 - val_accuracy: 0.9200\n",
            "Epoch 27/50\n",
            "53533/53533 [==============================] - 140s 3ms/step - loss: 0.2161 - accuracy: 0.9201 - val_loss: 0.2181 - val_accuracy: 0.9196\n",
            "Epoch 28/50\n",
            "53533/53533 [==============================] - 138s 3ms/step - loss: 0.2160 - accuracy: 0.9202 - val_loss: 0.2155 - val_accuracy: 0.9205\n",
            "Epoch 29/50\n",
            "53533/53533 [==============================] - 135s 3ms/step - loss: 0.2158 - accuracy: 0.9202 - val_loss: 0.2179 - val_accuracy: 0.9195\n",
            "Epoch 30/50\n",
            "53533/53533 [==============================] - 136s 3ms/step - loss: 0.2157 - accuracy: 0.9203 - val_loss: 0.2154 - val_accuracy: 0.9205\n",
            "Epoch 31/50\n",
            "53533/53533 [==============================] - 135s 3ms/step - loss: 0.2156 - accuracy: 0.9203 - val_loss: 0.2161 - val_accuracy: 0.9204\n",
            "Epoch 32/50\n",
            "53533/53533 [==============================] - 141s 3ms/step - loss: 0.2157 - accuracy: 0.9203 - val_loss: 0.2173 - val_accuracy: 0.9200\n",
            "Epoch 33/50\n",
            "53533/53533 [==============================] - 136s 3ms/step - loss: 0.2155 - accuracy: 0.9203 - val_loss: 0.2166 - val_accuracy: 0.9203\n",
            "Epoch 34/50\n",
            "53533/53533 [==============================] - 134s 3ms/step - loss: 0.2154 - accuracy: 0.9204 - val_loss: 0.2148 - val_accuracy: 0.9210\n",
            "Epoch 35/50\n",
            "53533/53533 [==============================] - 147s 3ms/step - loss: 0.2154 - accuracy: 0.9204 - val_loss: 0.2158 - val_accuracy: 0.9206\n",
            "Epoch 36/50\n",
            "53533/53533 [==============================] - 137s 3ms/step - loss: 0.2153 - accuracy: 0.9204 - val_loss: 0.2148 - val_accuracy: 0.9209\n",
            "Epoch 37/50\n",
            "53533/53533 [==============================] - 139s 3ms/step - loss: 0.2152 - accuracy: 0.9204 - val_loss: 0.2180 - val_accuracy: 0.9194\n",
            "Epoch 38/50\n",
            "53533/53533 [==============================] - 141s 3ms/step - loss: 0.2152 - accuracy: 0.9204 - val_loss: 0.2179 - val_accuracy: 0.9200\n",
            "Epoch 39/50\n",
            "53533/53533 [==============================] - 143s 3ms/step - loss: 0.2152 - accuracy: 0.9205 - val_loss: 0.2152 - val_accuracy: 0.9205\n",
            "Epoch 40/50\n",
            "53533/53533 [==============================] - 136s 3ms/step - loss: 0.2151 - accuracy: 0.9205 - val_loss: 0.2151 - val_accuracy: 0.9209\n",
            "Epoch 41/50\n",
            "53533/53533 [==============================] - 140s 3ms/step - loss: 0.2150 - accuracy: 0.9206 - val_loss: 0.2181 - val_accuracy: 0.9196\n",
            "Epoch 42/50\n",
            "53533/53533 [==============================] - 139s 3ms/step - loss: 0.2150 - accuracy: 0.9205 - val_loss: 0.2158 - val_accuracy: 0.9206\n",
            "Epoch 43/50\n",
            "53533/53533 [==============================] - 137s 3ms/step - loss: 0.2150 - accuracy: 0.9204 - val_loss: 0.2152 - val_accuracy: 0.9207\n",
            "Epoch 44/50\n",
            "53533/53533 [==============================] - 137s 3ms/step - loss: 0.2150 - accuracy: 0.9205 - val_loss: 0.2141 - val_accuracy: 0.9210\n",
            "Epoch 45/50\n",
            "53533/53533 [==============================] - 134s 3ms/step - loss: 0.2148 - accuracy: 0.9206 - val_loss: 0.2162 - val_accuracy: 0.9201\n",
            "Epoch 46/50\n",
            "53533/53533 [==============================] - 145s 3ms/step - loss: 0.2149 - accuracy: 0.9206 - val_loss: 0.2175 - val_accuracy: 0.9197\n",
            "Epoch 47/50\n",
            "53533/53533 [==============================] - 141s 3ms/step - loss: 0.2148 - accuracy: 0.9206 - val_loss: 0.2144 - val_accuracy: 0.9211\n",
            "Epoch 48/50\n",
            "53533/53533 [==============================] - 136s 3ms/step - loss: 0.2148 - accuracy: 0.9206 - val_loss: 0.2152 - val_accuracy: 0.9208\n",
            "Epoch 49/50\n",
            "53533/53533 [==============================] - 141s 3ms/step - loss: 0.2148 - accuracy: 0.9206 - val_loss: 0.2145 - val_accuracy: 0.9208\n",
            "Epoch 50/50\n",
            "53533/53533 [==============================] - 144s 3ms/step - loss: 0.2147 - accuracy: 0.9207 - val_loss: 0.2155 - val_accuracy: 0.9204\n"
          ]
        }
      ]
    },
    {
      "cell_type": "code",
      "source": [
        "\n",
        "plt.plot(history.history['loss'], label='train')\n",
        "plt.plot(history.history['val_loss'], label='validation')\n",
        "plt.ylabel('loss')\n",
        "plt.xlabel('epoch')\n",
        "plt.legend(loc='upper right')\n",
        "plt.title(\"HLF classifier loss\")\n",
        "plt.rcParams[\"figure.figsize\"] = (10,7)"
      ],
      "metadata": {
        "colab": {
          "base_uri": "https://localhost:8080/",
          "height": 295
        },
        "id": "ZaBtQWACJmq3",
        "outputId": "8a221a23-5868-4f3d-87c7-e9c4efa57935"
      },
      "execution_count": null,
      "outputs": [
        {
          "output_type": "display_data",
          "data": {
            "text/plain": [
              "<Figure size 432x288 with 1 Axes>"
            ],
            "image/png": "[encoded data removed]"
          },
          "metadata": {
            "needs_background": "light"
          }
        }
      ]
    },
    {
      "cell_type": "code",
      "source": [
        "plt.plot(history.history['accuracy'], label='train')\n",
        "plt.plot(history.history['val_accuracy'], label='validation')\n",
        "plt.ylabel('Accuracy')\n",
        "plt.xlabel('epoch')\n",
        "plt.legend(loc='lower right')\n",
        "plt.title(\"HLF classifier accuracy\")\n",
        "plt.rcParams[\"figure.figsize\"] = (10,7)"
      ],
      "metadata": {
        "colab": {
          "base_uri": "https://localhost:8080/",
          "height": 458
        },
        "id": "1wdHTwbiJsEP",
        "outputId": "7759594f-5d38-4a7c-e528-eef2800af371"
      },
      "execution_count": null,
      "outputs": [
        {
          "output_type": "display_data",
          "data": {
            "text/plain": [
              "<Figure size 720x504 with 1 Axes>"
            ],
            "image/png": "[encoded data removed]"
          },
          "metadata": {
            "needs_background": "light"
          }
        }
      ]
    },
    {
      "cell_type": "markdown",
      "source": [
        "# Confusion Matrix"
      ],
      "metadata": {
        "id": "-kugLtIgGMCE"
      }
    },
    {
      "cell_type": "code",
      "source": [
        "y_pred=history.model.predict(X_test)\n",
        "y_true=y_test"
      ],
      "metadata": {
        "id": "39YW1xD_GOYs"
      },
      "execution_count": null,
      "outputs": []
    },
    {
      "cell_type": "code",
      "source": [
        "from sklearn.metrics import accuracy_score\n",
        "\n",
        "print('Accuracy of the HLF classifier: {:.4f}'.format(accuracy_score(np.argmax(y_true, axis=1),np.argmax(y_pred, axis=1))))"
      ],
      "metadata": {
        "colab": {
          "base_uri": "https://localhost:8080/"
        },
        "id": "cWKw4I7vGcVE",
        "outputId": "a542886c-9e05-41a2-cb6d-6d3947ae5675"
      },
      "execution_count": null,
      "outputs": [
        {
          "output_type": "stream",
          "name": "stdout",
          "text": [
            "Accuracy of the HLF classifier: 0.9204\n"
          ]
        }
      ]
    },
    {
      "cell_type": "code",
      "source": [
        "import seaborn as sns\n",
        "from sklearn.metrics import confusion_matrix\n",
        "labels_name = ['qcd', 'tt', 'wjets']\n",
        "labels = [0,1,2]\n",
        "\n",
        "cm = confusion_matrix(np.argmax(y_true, axis=1), np.argmax(y_pred, axis=1), labels=labels)\n",
        "\n",
        "## Normalize CM\n",
        "cm = cm / cm.astype(np.float).sum(axis=1)\n",
        "\n",
        "fig, ax = plt.subplots()\n",
        "ax = sns.heatmap(cm, annot=True, fmt='g')\n",
        "ax.xaxis.set_ticklabels(labels_name)\n",
        "ax.yaxis.set_ticklabels(labels_name)\n",
        "plt.xlabel('True labels')\n",
        "plt.ylabel('Predicted labels')\n",
        "plt.show()"
      ],
      "metadata": {
        "colab": {
          "base_uri": "https://localhost:8080/",
          "height": 514
        },
        "id": "0emDVYXPGnbs",
        "outputId": "b3fd0149-7c5a-4382-ba34-5f5df5fcec09"
      },
      "execution_count": null,
      "outputs": [
        {
          "output_type": "stream",
          "name": "stderr",
          "text": [
            "/usr/local/lib/python3.7/dist-packages/ipykernel_launcher.py:9: DeprecationWarning: `np.float` is a deprecated alias for the builtin `float`. To silence this warning, use `float` by itself. Doing this will not modify any behavior and is safe. If you specifically wanted the numpy scalar type, use `np.float64` here.\n",
            "Deprecated in NumPy 1.20; for more details and guidance: https://numpy.org/devdocs/release/1.20.0-notes.html#deprecations\n",
            "  if __name__ == '__main__':\n"
          ]
        },
        {
          "output_type": "display_data",
          "data": {
            "text/plain": [
              "<Figure size 720x504 with 2 Axes>"
            ],
            "image/png": "[encoded data removed]"
          },
          "metadata": {
            "needs_background": "light"
          }
        }
      ]
    },
    {
      "cell_type": "markdown",
      "source": [
        "# ROC y AUC"
      ],
      "metadata": {
        "id": "CT4_fhe7Gz5j"
      }
    },
    {
      "cell_type": "code",
      "source": [
        "from sklearn.metrics import roc_curve, auc\n",
        "\n",
        "fpr = dict()\n",
        "tpr = dict()\n",
        "roc_auc = dict()\n",
        "\n",
        "for i in range(3):\n",
        "    fpr[i], tpr[i], _ = roc_curve(y_test[:, i], y_pred[:, i])\n",
        "    roc_auc[i] = auc(fpr[i], tpr[i])"
      ],
      "metadata": {
        "id": "1r9djo74G1U0"
      },
      "execution_count": null,
      "outputs": []
    },
    {
      "cell_type": "code",
      "source": [
        "# Dictionary containign ROC-AUC for the three classes \n",
        "roc_auc"
      ],
      "metadata": {
        "colab": {
          "base_uri": "https://localhost:8080/"
        },
        "id": "fRhe6RYkG6Zc",
        "outputId": "5a52e2db-54fe-4703-9555-d7a6842c882e"
      },
      "execution_count": null,
      "outputs": [
        {
          "output_type": "execute_result",
          "data": {
            "text/plain": [
              "{0: 0.9891137424712532, 1: 0.9865896390362606, 2: 0.9831638162517662}"
            ]
          },
          "metadata": {},
          "execution_count": 24
        }
      ]
    },
    {
      "cell_type": "code",
      "source": [
        "plt.figure()\n",
        "plt.plot(fpr[0], tpr[0], lw=2, \\\n",
        "         label='HLF classifier (AUC) = %0.4f' % roc_auc[0])\n",
        "plt.plot([0, 1], [0, 1], linestyle='--')\n",
        "plt.xlim([0.0, 1.0])\n",
        "plt.ylim([0.0, 1.05])\n",
        "plt.xlabel('Background Contamination (FPR)')\n",
        "plt.ylabel('Signal Efficiency (TPR)')\n",
        "plt.title('$tt$ selector')\n",
        "plt.legend(loc=\"lower right\")\n",
        "plt.rcParams[\"figure.figsize\"] = (10,7)\n",
        "plt.show()"
      ],
      "metadata": {
        "colab": {
          "base_uri": "https://localhost:8080/",
          "height": 459
        },
        "id": "NVoP-c1gG_gT",
        "outputId": "70b24e3e-8475-4b11-bcb9-e9d6c18079c9"
      },
      "execution_count": null,
      "outputs": [
        {
          "output_type": "display_data",
          "data": {
            "text/plain": [
              "<Figure size 720x504 with 1 Axes>"
            ],
            "image/png": "[encoded data removed]"
          },
          "metadata": {
            "needs_background": "light"
          }
        }
      ]
    }
  ]
}